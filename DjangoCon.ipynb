{
 "cells": [
  {
   "cell_type": "markdown",
   "metadata": {},
   "source": [
    "# Bringing Functional Programming into an Imperative World.\n",
    "# Maybe\n"
   ]
  },
  {
   "cell_type": "markdown",
   "metadata": {},
   "source": [
    "<img src=\"Pell_Contact.png\">\n"
   ]
  },
  {
   "cell_type": "markdown",
   "metadata": {
    "heading_collapsed": true
   },
   "source": [
    "# Why FP?\n"
   ]
  },
  {
   "cell_type": "markdown",
   "metadata": {
    "hidden": true
   },
   "source": [
    "* Expressive\n",
    "* Efficient\n",
    "* Safe-er\n",
    "* Easier to work with concurrent programming\n"
   ]
  },
  {
   "cell_type": "markdown",
   "metadata": {
    "heading_collapsed": true
   },
   "source": [
    "# Higher order functions\n"
   ]
  },
  {
   "cell_type": "markdown",
   "metadata": {
    "hidden": true
   },
   "source": [
    "* Functions get treated like first class citizens\n",
    "    * Passed into other functions as parameters\n",
    "    * Returned from functions as values\n",
    "    * Stored in variables"
   ]
  },
  {
   "cell_type": "markdown",
   "metadata": {
    "heading_collapsed": true,
    "hidden": true
   },
   "source": [
    "### Passing in a function"
   ]
  },
  {
   "cell_type": "code",
   "execution_count": null,
   "metadata": {
    "collapsed": false,
    "hidden": true
   },
   "outputs": [],
   "source": [
    "def call_db(fn):\n",
    "    print(\"Initializing database connection\")\n",
    "    curs = \"cursor\"\n",
    "    return fn(curs)\n",
    "    \n",
    "def query(curs):\n",
    "    results = \"Query db using {}\".format(curs)\n",
    "    return results\n",
    "\n",
    "def insert_into_db(curs):\n",
    "    new_row_number = \"Insert item into db using {}\".format(curs)\n",
    "    return new_row_number\n"
   ]
  },
  {
   "cell_type": "code",
   "execution_count": null,
   "metadata": {
    "collapsed": false,
    "hidden": true
   },
   "outputs": [],
   "source": [
    "res = call_db(query)\n",
    "print(res)"
   ]
  },
  {
   "cell_type": "code",
   "execution_count": null,
   "metadata": {
    "collapsed": false,
    "hidden": true
   },
   "outputs": [],
   "source": [
    "new_row = call_db(insert_into_db)\n",
    "print(new_row)"
   ]
  },
  {
   "cell_type": "markdown",
   "metadata": {
    "hidden": true
   },
   "source": [
    "### Returning a function"
   ]
  },
  {
   "cell_type": "code",
   "execution_count": null,
   "metadata": {
    "collapsed": true,
    "hidden": true
   },
   "outputs": [],
   "source": [
    "def complex_string_fn(s):\n",
    "    print(\"Hold up, I'm doing something complex with your {}\". format(s))\n",
    "    \n",
    "def complex_list_fn(l):\n",
    "    print(\"Hold up, I'm doing something complex with your {}\". format(l))\n",
    "    \n",
    "def give_me_a_fn(source):\n",
    "    if source == \"s3\":\n",
    "        return complex_string_fn\n",
    "    else:\n",
    "        return complex_list_fn\n",
    "    "
   ]
  },
  {
   "cell_type": "code",
   "execution_count": null,
   "metadata": {
    "collapsed": false,
    "hidden": true
   },
   "outputs": [],
   "source": [
    "source = \"s3\"\n",
    "new_fn = give_me_a_fn(source)\n",
    "new_fn(\"S3 object\")"
   ]
  },
  {
   "cell_type": "code",
   "execution_count": null,
   "metadata": {
    "collapsed": false,
    "hidden": true
   },
   "outputs": [],
   "source": [
    "source = \"sql\"\n",
    "new_fn = give_me_a_fn(source)\n",
    "new_fn(\"MySQL object\")"
   ]
  },
  {
   "cell_type": "code",
   "execution_count": null,
   "metadata": {
    "collapsed": false,
    "hidden": true
   },
   "outputs": [],
   "source": [
    "source = \"sql\"\n",
    "give_me_a_fn(source)(\"Postgres Object\")"
   ]
  },
  {
   "cell_type": "markdown",
   "metadata": {
    "hidden": true
   },
   "source": [
    "### Decorators"
   ]
  },
  {
   "cell_type": "code",
   "execution_count": null,
   "metadata": {
    "collapsed": true,
    "hidden": true
   },
   "outputs": [],
   "source": [
    "def decorate_it(fn):\n",
    "    def wrapper(*args):\n",
    "        fn(*args)\n",
    "        print(\"Consider yourself decorated\")\n",
    "    return wrapper"
   ]
  },
  {
   "cell_type": "code",
   "execution_count": null,
   "metadata": {
    "collapsed": false,
    "hidden": true
   },
   "outputs": [],
   "source": [
    "@decorate_it\n",
    "def add_it(x, y):\n",
    "    print(\"It's gonna equal: \", x + y)"
   ]
  },
  {
   "cell_type": "code",
   "execution_count": null,
   "metadata": {
    "collapsed": false,
    "hidden": true
   },
   "outputs": [],
   "source": [
    "add_it(3, 5)"
   ]
  },
  {
   "cell_type": "markdown",
   "metadata": {
    "heading_collapsed": true
   },
   "source": [
    "# Immutable Data"
   ]
  },
  {
   "cell_type": "markdown",
   "metadata": {
    "hidden": true
   },
   "source": [
    "* The structure itself never gets changed\n",
    "* New way of thinking about \"updating\" your data structure\n",
    "    * every update returns a new data structure\n",
    "* Safety\n",
    "    * since each update returns a new data structure, you can safely pass them around\n",
    "* Historically inefficient, but that's changing\n",
    "    * [Persistent](https://en.wikipedia.org/wiki/Persistent_data_structure) data structures are beginning to make thier way into languages"
   ]
  },
  {
   "cell_type": "markdown",
   "metadata": {
    "heading_collapsed": true,
    "hidden": true
   },
   "source": [
    "### The problem with mutable data structures\n",
    "* You can't be sure that your data won't change out from under you"
   ]
  },
  {
   "cell_type": "code",
   "execution_count": null,
   "metadata": {
    "collapsed": false,
    "hidden": true
   },
   "outputs": [],
   "source": [
    "list_1 = [1, 2, 3, 4]\n",
    "list_2 = list_1\n",
    "list1 = list_1.append(5)\n",
    "\n",
    "print(list_1)\n",
    "print(list_2)\n",
    "print(list_1 is list_2)"
   ]
  },
  {
   "cell_type": "markdown",
   "metadata": {
    "hidden": true
   },
   "source": [
    "### Immutable data structures help avoid this problem\n",
    "* Data structures that cannot have their values changed\n",
    "* Python has a few immutable types, the most common is the tuple"
   ]
  },
  {
   "cell_type": "code",
   "execution_count": null,
   "metadata": {
    "collapsed": false,
    "hidden": true
   },
   "outputs": [],
   "source": [
    "x = 1, 2, \"me\"\n",
    "\n",
    "# adding to a tuple is slow because it has to copy the entire tuple\n",
    "y = (4,) + x\n",
    "print(x)\n",
    "print(y)"
   ]
  },
  {
   "cell_type": "markdown",
   "metadata": {
    "hidden": true
   },
   "source": [
    "### You can fake an immutable data structure using deepcopy\n",
    "* But it's still slow"
   ]
  },
  {
   "cell_type": "code",
   "execution_count": null,
   "metadata": {
    "collapsed": false,
    "hidden": true
   },
   "outputs": [],
   "source": [
    "from copy import deepcopy\n",
    "list_1 = [1, 2, 3,4]\n",
    "list_2 = list_1\n",
    "print(list_1)\n",
    "print(list_2)\n",
    "print(list_1 is list_2)\n",
    "print()\n",
    "\n",
    "list_2 = deepcopy(list_1)\n",
    "list_1.append(5)\n",
    "print(list_1)\n",
    "print(list_2)\n",
    "print(list_1 is list_2)"
   ]
  },
  {
   "cell_type": "markdown",
   "metadata": {
    "heading_collapsed": true
   },
   "source": [
    "# Recursion"
   ]
  },
  {
   "cell_type": "markdown",
   "metadata": {
    "hidden": true
   },
   "source": [
    "* Calling a function from inside itself. \n",
    "\n",
    "* Recursion takes the place of loops in many functional languages\n",
    "\n",
    "* Every time you call, you add to the stack\n",
    "\n",
    "* Tail call optimizations eliminate this if you design your function properly\n",
    "    * But, python doesn't have TCO\n"
   ]
  },
  {
   "cell_type": "markdown",
   "metadata": {
    "heading_collapsed": true,
    "hidden": true
   },
   "source": [
    "### What's wrong with loops?"
   ]
  },
  {
   "cell_type": "code",
   "execution_count": null,
   "metadata": {
    "collapsed": false,
    "hidden": true
   },
   "outputs": [],
   "source": [
    "x = [1, 2, 3]\n",
    "for a in x:\n",
    "    print(a)\n",
    "    x.append(a + 1)\n",
    "    if len(x) > 100:\n",
    "        break"
   ]
  },
  {
   "cell_type": "markdown",
   "metadata": {
    "heading_collapsed": true,
    "hidden": true
   },
   "source": [
    "### Let's look at recursion"
   ]
  },
  {
   "cell_type": "code",
   "execution_count": null,
   "metadata": {
    "collapsed": false,
    "hidden": true
   },
   "outputs": [],
   "source": [
    "def factorial( n ):\n",
    "   if n <1:   # base case\n",
    "       return 1\n",
    "   else:\n",
    "       returnNumber = n * factorial( n - 1 )  # recursive call\n",
    "       print(str(n) + '! = ' + str(returnNumber))\n",
    "       return returnNumber\n",
    "    \n",
    "factorial(5)"
   ]
  },
  {
   "cell_type": "markdown",
   "metadata": {
    "heading_collapsed": true,
    "hidden": true
   },
   "source": [
    "### what the stack sees"
   ]
  },
  {
   "cell_type": "markdown",
   "metadata": {
    "hidden": true
   },
   "source": [
    "\n",
    "5 \\* factorial(4)\n",
    "\n",
    "5 \\* factorial(4) \\* factorial(3)\n",
    "\n",
    "5 \\* factorial(4) \\* factorial(3) \\* factorial(2)\n",
    "\n",
    "5 \\* factorial(4) \\* factorial(3) \\* factorial(2) \\* factorial(1)\n",
    "\n",
    "5 \\* factorial(4) \\* factorial(3) \\* factorial(2) \\* 1\n",
    "\n",
    "5 \\* factorial(4) \\* factorial(3) \\* 2 \n",
    "\n",
    "5 \\* factorial(4) \\* 6\n",
    "\n",
    "5 \\* 24\n",
    "\n",
    "120\n"
   ]
  },
  {
   "cell_type": "markdown",
   "metadata": {
    "hidden": true
   },
   "source": [
    "### The problem with recursion in python"
   ]
  },
  {
   "cell_type": "code",
   "execution_count": null,
   "metadata": {
    "collapsed": false,
    "hidden": true
   },
   "outputs": [],
   "source": [
    "def factorial( n ):\n",
    "   if n <1:   # base case\n",
    "       return 1\n",
    "   else:\n",
    "       returnNumber = n * factorial( n - 1 )  # recursive call\n",
    "       print(str(n) + '! = ' + str(returnNumber))\n",
    "       return returnNumber\n",
    "    \n",
    "factorial(1000)"
   ]
  },
  {
   "cell_type": "markdown",
   "metadata": {
    "heading_collapsed": true
   },
   "source": [
    "# Function Composition"
   ]
  },
  {
   "cell_type": "markdown",
   "metadata": {
    "hidden": true
   },
   "source": [
    "* Combine functions just like you would in math\n",
    "* The result of one function is passed in as the parameter to the next\n",
    "* f(g(x))\n"
   ]
  },
  {
   "cell_type": "code",
   "execution_count": 102,
   "metadata": {
    "collapsed": false,
    "hidden": true
   },
   "outputs": [],
   "source": [
    "def get_users():\n",
    "    users = {1: [\"Rob\", 25], 2: [\"Jon\", 21], 3: [\"Arya\", 15], 4: [\"Sansa\", 18], 5: [\"Bran\", 13] }\n",
    "    return users\n",
    "\n",
    "def get_18_and_over(users):\n",
    "    adults = {}\n",
    "    for k, v in users.items():\n",
    "        if v[1] >= 18:\n",
    "            adults[k] = v\n",
    "    return adults\n",
    "\n"
   ]
  },
  {
   "cell_type": "code",
   "execution_count": 103,
   "metadata": {
    "collapsed": false,
    "hidden": true
   },
   "outputs": [
    {
     "name": "stdout",
     "output_type": "stream",
     "text": [
      "{1: ['Rob', 25], 2: ['Jon', 21], 4: ['Sansa', 18]}\n"
     ]
    }
   ],
   "source": [
    "adults = get_18_and_over(get_users())\n",
    "print(adults)"
   ]
  },
  {
   "cell_type": "markdown",
   "metadata": {
    "heading_collapsed": true
   },
   "source": [
    "# Map, Filter, Reduce, Lambdas"
   ]
  },
  {
   "cell_type": "markdown",
   "metadata": {
    "heading_collapsed": true,
    "hidden": true
   },
   "source": [
    "## Lambdas"
   ]
  },
  {
   "cell_type": "markdown",
   "metadata": {
    "hidden": true
   },
   "source": [
    "* Anonymous functions\n",
    "    * This just means they don't have a name"
   ]
  },
  {
   "cell_type": "code",
   "execution_count": 108,
   "metadata": {
    "collapsed": false,
    "hidden": true
   },
   "outputs": [
    {
     "data": {
      "text/plain": [
       "5"
      ]
     },
     "execution_count": 108,
     "metadata": {},
     "output_type": "execute_result"
    }
   ],
   "source": [
    "sum = lambda x, y: x + y\n",
    "\n",
    "sum(2,3)"
   ]
  },
  {
   "cell_type": "markdown",
   "metadata": {
    "heading_collapsed": true,
    "hidden": true
   },
   "source": [
    "## Filter"
   ]
  },
  {
   "cell_type": "code",
   "execution_count": 106,
   "metadata": {
    "collapsed": true,
    "hidden": true
   },
   "outputs": [],
   "source": [
    "list_1 = [1, 2, 3, 4]"
   ]
  },
  {
   "cell_type": "code",
   "execution_count": 107,
   "metadata": {
    "collapsed": false,
    "hidden": true
   },
   "outputs": [
    {
     "name": "stdout",
     "output_type": "stream",
     "text": [
      "[1, 2, 3, 4]\n",
      "[2, 4]\n"
     ]
    }
   ],
   "source": [
    "list_3 = list(filter(lambda x: x % 2 == 0, list_1))\n",
    "print(list_1)\n",
    "print(list_3)"
   ]
  },
  {
   "cell_type": "markdown",
   "metadata": {
    "heading_collapsed": true,
    "hidden": true
   },
   "source": [
    "## Map"
   ]
  },
  {
   "cell_type": "markdown",
   "metadata": {
    "hidden": true
   },
   "source": [
    "* Takes a mapping function and a collection to operate on\n",
    "* Applies the function to each item in the list, returning an iterator over the new list"
   ]
  },
  {
   "cell_type": "code",
   "execution_count": 109,
   "metadata": {
    "collapsed": false,
    "hidden": true
   },
   "outputs": [
    {
     "data": {
      "text/plain": [
       "[2, 4, 6, 8]"
      ]
     },
     "execution_count": 109,
     "metadata": {},
     "output_type": "execute_result"
    }
   ],
   "source": [
    "list(map(lambda x: x *2, list_1))"
   ]
  },
  {
   "cell_type": "markdown",
   "metadata": {
    "heading_collapsed": true,
    "hidden": true
   },
   "source": [
    "## Reduce"
   ]
  },
  {
   "cell_type": "markdown",
   "metadata": {
    "hidden": true
   },
   "source": [
    "* Takes a reducing function and a collection to reduce and an optional initial value\n",
    "    * If there's no initial value, it passes the first two collection items into the function\n",
    "* The function needs to take 2 parameters and return some combination of the two in the same form as the parameters"
   ]
  },
  {
   "cell_type": "code",
   "execution_count": 127,
   "metadata": {
    "collapsed": false,
    "hidden": true
   },
   "outputs": [
    {
     "data": {
      "text/plain": [
       "24"
      ]
     },
     "execution_count": 127,
     "metadata": {},
     "output_type": "execute_result"
    }
   ],
   "source": [
    "from functools import reduce\n",
    "list_1 = [1, 2, 3, 4]\n",
    "reduce(lambda x, y: x * y, list_1)"
   ]
  },
  {
   "cell_type": "code",
   "execution_count": 129,
   "metadata": {
    "collapsed": false,
    "hidden": true
   },
   "outputs": [
    {
     "data": {
      "text/plain": [
       "5"
      ]
     },
     "execution_count": 129,
     "metadata": {},
     "output_type": "execute_result"
    }
   ],
   "source": [
    "dna = [\"AAACTCTGGT\", \"AACTGGTC\", \"CCCTGTGT\"]\n",
    "\n",
    "a_count = reduce(lambda a, x: a + x.count(\"A\"), dna, 0)\n",
    "a_count"
   ]
  },
  {
   "cell_type": "code",
   "execution_count": 125,
   "metadata": {
    "collapsed": false,
    "hidden": true
   },
   "outputs": [
    {
     "name": "stdout",
     "output_type": "stream",
     "text": [
      "['combined', 92]\n"
     ]
    }
   ],
   "source": [
    "def combined_age(person1, person2):\n",
    "    age1 = person1[1]\n",
    "    age2 = person2[1]\n",
    "    c_age = [\"combined\", age1 + age2]\n",
    "    return c_age\n",
    "\n",
    "users = get_users()\n",
    "\n",
    "combined = reduce(combined_age, users.values())\n",
    "print(combined)"
   ]
  },
  {
   "cell_type": "markdown",
   "metadata": {
    "heading_collapsed": true,
    "hidden": true
   },
   "source": [
    "## you can mimic map and filter in list comprehensions"
   ]
  },
  {
   "cell_type": "markdown",
   "metadata": {
    "hidden": true
   },
   "source": [
    "### map"
   ]
  },
  {
   "cell_type": "code",
   "execution_count": null,
   "metadata": {
    "collapsed": true,
    "hidden": true
   },
   "outputs": [],
   "source": [
    "list_2 =[(lambda x: x*x)(x) for x in list_1]\n",
    "print(list_2)"
   ]
  },
  {
   "cell_type": "markdown",
   "metadata": {
    "hidden": true
   },
   "source": [
    "### or if the lambda is too ugly"
   ]
  },
  {
   "cell_type": "code",
   "execution_count": null,
   "metadata": {
    "collapsed": false,
    "hidden": true
   },
   "outputs": [],
   "source": [
    "def square(x):\n",
    "    return x*x\n",
    "\n",
    "[square(x) for x in list_1]\n",
    "\n"
   ]
  },
  {
   "cell_type": "markdown",
   "metadata": {
    "hidden": true
   },
   "source": [
    "### filter\n"
   ]
  },
  {
   "cell_type": "code",
   "execution_count": null,
   "metadata": {
    "collapsed": false,
    "hidden": true
   },
   "outputs": [],
   "source": [
    "[x for x in list_1 if x % 2 == 0]"
   ]
  }
 ],
 "metadata": {
  "anaconda-cloud": {},
  "kernelspec": {
   "display_name": "Python [default]",
   "language": "python",
   "name": "python3"
  },
  "language_info": {
   "codemirror_mode": {
    "name": "ipython",
    "version": 3
   },
   "file_extension": ".py",
   "mimetype": "text/x-python",
   "name": "python",
   "nbconvert_exporter": "python",
   "pygments_lexer": "ipython3",
   "version": "3.5.2"
  }
 },
 "nbformat": 4,
 "nbformat_minor": 1
}
